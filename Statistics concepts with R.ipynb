{
 "cells": [
  {
   "cell_type": "markdown",
   "metadata": {},
   "source": [
    "## Chapter 1"
   ]
  },
  {
   "cell_type": "code",
   "execution_count": 1,
   "metadata": {},
   "outputs": [],
   "source": [
    "# data file\n",
    "states <- read.csv('data_files/state.csv')"
   ]
  },
  {
   "cell_type": "code",
   "execution_count": 2,
   "metadata": {},
   "outputs": [
    {
     "data": {
      "text/html": [
       "<table>\n",
       "<thead><tr><th scope=col>State</th><th scope=col>Population</th><th scope=col>Murder.Rate</th><th scope=col>Abbreviation</th></tr></thead>\n",
       "<tbody>\n",
       "\t<tr><td>Alabama   </td><td> 4779736  </td><td>5.7       </td><td>AL        </td></tr>\n",
       "\t<tr><td>Alaska    </td><td>  710231  </td><td>5.6       </td><td>AK        </td></tr>\n",
       "\t<tr><td>Arizona   </td><td> 6392017  </td><td>4.7       </td><td>AZ        </td></tr>\n",
       "\t<tr><td>Arkansas  </td><td> 2915918  </td><td>5.6       </td><td>AR        </td></tr>\n",
       "\t<tr><td>California</td><td>37253956  </td><td>4.4       </td><td>CA        </td></tr>\n",
       "\t<tr><td>Colorado  </td><td> 5029196  </td><td>2.8       </td><td>CO        </td></tr>\n",
       "</tbody>\n",
       "</table>\n"
      ],
      "text/latex": [
       "\\begin{tabular}{r|llll}\n",
       " State & Population & Murder.Rate & Abbreviation\\\\\n",
       "\\hline\n",
       "\t Alabama    &  4779736   & 5.7        & AL        \\\\\n",
       "\t Alaska     &   710231   & 5.6        & AK        \\\\\n",
       "\t Arizona    &  6392017   & 4.7        & AZ        \\\\\n",
       "\t Arkansas   &  2915918   & 5.6        & AR        \\\\\n",
       "\t California & 37253956   & 4.4        & CA        \\\\\n",
       "\t Colorado   &  5029196   & 2.8        & CO        \\\\\n",
       "\\end{tabular}\n"
      ],
      "text/markdown": [
       "\n",
       "| State | Population | Murder.Rate | Abbreviation |\n",
       "|---|---|---|---|\n",
       "| Alabama    |  4779736   | 5.7        | AL         |\n",
       "| Alaska     |   710231   | 5.6        | AK         |\n",
       "| Arizona    |  6392017   | 4.7        | AZ         |\n",
       "| Arkansas   |  2915918   | 5.6        | AR         |\n",
       "| California | 37253956   | 4.4        | CA         |\n",
       "| Colorado   |  5029196   | 2.8        | CO         |\n",
       "\n"
      ],
      "text/plain": [
       "  State      Population Murder.Rate Abbreviation\n",
       "1 Alabama     4779736   5.7         AL          \n",
       "2 Alaska       710231   5.6         AK          \n",
       "3 Arizona     6392017   4.7         AZ          \n",
       "4 Arkansas    2915918   5.6         AR          \n",
       "5 California 37253956   4.4         CA          \n",
       "6 Colorado    5029196   2.8         CO          "
      ]
     },
     "metadata": {},
     "output_type": "display_data"
    },
    {
     "data": {
      "text/html": [
       "'data.frame'"
      ],
      "text/latex": [
       "'data.frame'"
      ],
      "text/markdown": [
       "'data.frame'"
      ],
      "text/plain": [
       "[1] \"data.frame\""
      ]
     },
     "metadata": {},
     "output_type": "display_data"
    }
   ],
   "source": [
    "head(states)\n",
    "class(states)\n",
    "# columns are features\n",
    "# rows are records"
   ]
  },
  {
   "cell_type": "markdown",
   "metadata": {},
   "source": [
    "Dataframes are part of the core packages in R. This is different from Python which requires pandas."
   ]
  },
  {
   "cell_type": "markdown",
   "metadata": {},
   "source": [
    "### Calculating mean and median"
   ]
  },
  {
   "cell_type": "code",
   "execution_count": 3,
   "metadata": {},
   "outputs": [
    {
     "data": {
      "text/html": [
       "<ol class=list-inline>\n",
       "\t<li>'State'</li>\n",
       "\t<li>'Population'</li>\n",
       "\t<li>'Murder.Rate'</li>\n",
       "\t<li>'Abbreviation'</li>\n",
       "</ol>\n"
      ],
      "text/latex": [
       "\\begin{enumerate*}\n",
       "\\item 'State'\n",
       "\\item 'Population'\n",
       "\\item 'Murder.Rate'\n",
       "\\item 'Abbreviation'\n",
       "\\end{enumerate*}\n"
      ],
      "text/markdown": [
       "1. 'State'\n",
       "2. 'Population'\n",
       "3. 'Murder.Rate'\n",
       "4. 'Abbreviation'\n",
       "\n",
       "\n"
      ],
      "text/plain": [
       "[1] \"State\"        \"Population\"   \"Murder.Rate\"  \"Abbreviation\""
      ]
     },
     "metadata": {},
     "output_type": "display_data"
    }
   ],
   "source": [
    "names(states)"
   ]
  },
  {
   "cell_type": "code",
   "execution_count": 4,
   "metadata": {},
   "outputs": [
    {
     "data": {
      "text/html": [
       "6162876.3"
      ],
      "text/latex": [
       "6162876.3"
      ],
      "text/markdown": [
       "6162876.3"
      ],
      "text/plain": [
       "[1] 6162876"
      ]
     },
     "metadata": {},
     "output_type": "display_data"
    }
   ],
   "source": [
    "mean(states$Population)"
   ]
  },
  {
   "cell_type": "code",
   "execution_count": 5,
   "metadata": {},
   "outputs": [
    {
     "data": {
      "text/html": [
       "4436369.5"
      ],
      "text/latex": [
       "4436369.5"
      ],
      "text/markdown": [
       "4436369.5"
      ],
      "text/plain": [
       "[1] 4436370"
      ]
     },
     "metadata": {},
     "output_type": "display_data"
    }
   ],
   "source": [
    "# trim mean; 10%\n",
    "median(states$Population)"
   ]
  },
  {
   "cell_type": "code",
   "execution_count": 6,
   "metadata": {},
   "outputs": [
    {
     "name": "stdout",
     "output_type": "stream",
     "text": [
      "[1] \"Weighted mean of the murder rate\"\n"
     ]
    },
    {
     "data": {
      "text/html": [
       "0.0444583398112339"
      ],
      "text/latex": [
       "0.0444583398112339"
      ],
      "text/markdown": [
       "0.0444583398112339"
      ],
      "text/plain": [
       "[1] 0.04445834"
      ]
     },
     "metadata": {},
     "output_type": "display_data"
    }
   ],
   "source": [
    "# Manual calculation of the weighted mean of the murder rate\n",
    "murdersPerState <- sum(states$Population * states$Murder.Rate / 100)\n",
    "totalPopulation <- sum(states$Population)\n",
    "totalMurders <- sum(murdersPerState)\n",
    "print('Weighted mean of the murder rate')\n",
    "totalMurders / totalPopulation"
   ]
  },
  {
   "cell_type": "code",
   "execution_count": 7,
   "metadata": {},
   "outputs": [
    {
     "name": "stderr",
     "output_type": "stream",
     "text": [
      "Warning message:\n",
      "“package ‘matrixStats’ was built under R version 3.6.3”"
     ]
    },
    {
     "data": {
      "text/html": [
       "4.44583398112339"
      ],
      "text/latex": [
       "4.44583398112339"
      ],
      "text/markdown": [
       "4.44583398112339"
      ],
      "text/plain": [
       "[1] 4.445834"
      ]
     },
     "metadata": {},
     "output_type": "display_data"
    }
   ],
   "source": [
    "# calculating the weighted mean using matrixStats\n",
    "library(matrixStats)\n",
    "weightedMean(states$Murder.Rate, w = states$Population)"
   ]
  },
  {
   "cell_type": "markdown",
   "metadata": {},
   "source": [
    "### Estimates of variability"
   ]
  },
  {
   "cell_type": "code",
   "execution_count": 18,
   "metadata": {},
   "outputs": [
    {
     "data": {
      "text/html": [
       "4450933.356"
      ],
      "text/latex": [
       "4450933.356"
      ],
      "text/markdown": [
       "4450933.356"
      ],
      "text/plain": [
       "[1] 4450933"
      ]
     },
     "metadata": {},
     "output_type": "display_data"
    }
   ],
   "source": [
    "# mean absolute deviation\n",
    "x <- abs(states$Population - mean(states$Population))\n",
    "y <- sum(x)\n",
    "y / 50"
   ]
  },
  {
   "cell_type": "code",
   "execution_count": 24,
   "metadata": {},
   "outputs": [],
   "source": [
    "pop <- states$Population"
   ]
  },
  {
   "cell_type": "code",
   "execution_count": 25,
   "metadata": {},
   "outputs": [
    {
     "data": {
      "text/html": [
       "6848235.34740114"
      ],
      "text/latex": [
       "6848235.34740114"
      ],
      "text/markdown": [
       "6848235.34740114"
      ],
      "text/plain": [
       "[1] 6848235"
      ]
     },
     "metadata": {},
     "output_type": "display_data"
    }
   ],
   "source": [
    "# sd\n",
    "sd(pop)"
   ]
  },
  {
   "cell_type": "code",
   "execution_count": 26,
   "metadata": {},
   "outputs": [
    {
     "data": {
      "text/html": [
       "4847308"
      ],
      "text/latex": [
       "4847308"
      ],
      "text/markdown": [
       "4847308"
      ],
      "text/plain": [
       "[1] 4847308"
      ]
     },
     "metadata": {},
     "output_type": "display_data"
    }
   ],
   "source": [
    "# 75th percentile - 25th percentile\n",
    "IQR(pop)"
   ]
  },
  {
   "cell_type": "code",
   "execution_count": 27,
   "metadata": {},
   "outputs": [
    {
     "data": {
      "text/html": [
       "3849870.3852"
      ],
      "text/latex": [
       "3849870.3852"
      ],
      "text/markdown": [
       "3849870.3852"
      ],
      "text/plain": [
       "[1] 3849870"
      ]
     },
     "metadata": {},
     "output_type": "display_data"
    }
   ],
   "source": [
    "# median absolute deviation from the meadian\n",
    "mad(pop)"
   ]
  },
  {
   "cell_type": "markdown",
   "metadata": {},
   "source": [
    "### Exploring the data distribution"
   ]
  },
  {
   "cell_type": "code",
   "execution_count": 3,
   "metadata": {},
   "outputs": [
    {
     "data": {
      "text/html": [
       "<dl class=dl-horizontal>\n",
       "\t<dt>5%</dt>\n",
       "\t\t<dd>1.6</dd>\n",
       "\t<dt>25%</dt>\n",
       "\t\t<dd>2.425</dd>\n",
       "\t<dt>50%</dt>\n",
       "\t\t<dd>4</dd>\n",
       "\t<dt>75%</dt>\n",
       "\t\t<dd>5.55</dd>\n",
       "\t<dt>95%</dt>\n",
       "\t\t<dd>6.51</dd>\n",
       "</dl>\n"
      ],
      "text/latex": [
       "\\begin{description*}\n",
       "\\item[5\\textbackslash{}\\%] 1.6\n",
       "\\item[25\\textbackslash{}\\%] 2.425\n",
       "\\item[50\\textbackslash{}\\%] 4\n",
       "\\item[75\\textbackslash{}\\%] 5.55\n",
       "\\item[95\\textbackslash{}\\%] 6.51\n",
       "\\end{description*}\n"
      ],
      "text/markdown": [
       "5%\n",
       ":   1.625%\n",
       ":   2.42550%\n",
       ":   475%\n",
       ":   5.5595%\n",
       ":   6.51\n",
       "\n"
      ],
      "text/plain": [
       "   5%   25%   50%   75%   95% \n",
       "1.600 2.425 4.000 5.550 6.510 "
      ]
     },
     "metadata": {},
     "output_type": "display_data"
    }
   ],
   "source": [
    "quantile(states$Murder.Rate, p=c(0.05,0.25,0.5,0.75, 0.95))"
   ]
  },
  {
   "cell_type": "code",
   "execution_count": 5,
   "metadata": {},
   "outputs": [
    {
     "data": {
      "image/png": "[encoded data removed]",
      "text/plain": [
       "plot without title"
      ]
     },
     "metadata": {},
     "output_type": "display_data"
    }
   ],
   "source": [
    "# boxplot for population\n",
    "boxplot(states$Population/1000000, ylab='Population (millions)')"
   ]
  },
  {
   "cell_type": "markdown",
   "metadata": {},
   "source": [
    "![title](images/boxplot.png)"
   ]
  },
  {
   "cell_type": "code",
   "execution_count": 6,
   "metadata": {},
   "outputs": [
    {
     "data": {
      "image/png": "[encoded data removed]",
      "text/plain": [
       "plot without title"
      ]
     },
     "metadata": {},
     "output_type": "display_data"
    }
   ],
   "source": [
    "boxplot(states$Murder.Rate, ylab='Murder rate per 100000 people')"
   ]
  },
  {
   "cell_type": "code",
   "execution_count": 11,
   "metadata": {},
   "outputs": [
    {
     "data": {
      "text/plain": [
       "pop_freq\n",
       "[5.64e+05,4.23e+06]  (4.23e+06,7.9e+06]  (7.9e+06,1.16e+07] (1.16e+07,1.52e+07] \n",
       "                 24                  14                   6                   2 \n",
       "(1.52e+07,1.89e+07] (1.89e+07,2.26e+07] (2.26e+07,2.62e+07] (2.62e+07,2.99e+07] \n",
       "                  1                   1                   1                   0 \n",
       "(2.99e+07,3.36e+07] (3.36e+07,3.73e+07] \n",
       "                  0                   1 "
      ]
     },
     "metadata": {},
     "output_type": "display_data"
    }
   ],
   "source": [
    "# frequency table\n",
    "breaks <- seq(from=min(states$Population), to=max(states$Population), length = 11)\n",
    "pop_freq <- cut(states$Population, breaks = breaks, right = TRUE, include.lowest = TRUE)\n",
    "table(pop_freq)"
   ]
  },
  {
   "cell_type": "code",
   "execution_count": 10,
   "metadata": {},
   "outputs": [
    {
     "data": {
      "text/html": [
       "<ol class=list-inline>\n",
       "\t<li>563626</li>\n",
       "\t<li>4232659</li>\n",
       "\t<li>7901692</li>\n",
       "\t<li>11570725</li>\n",
       "\t<li>15239758</li>\n",
       "\t<li>18908791</li>\n",
       "\t<li>22577824</li>\n",
       "\t<li>26246857</li>\n",
       "\t<li>29915890</li>\n",
       "\t<li>33584923</li>\n",
       "\t<li>37253956</li>\n",
       "</ol>\n"
      ],
      "text/latex": [
       "\\begin{enumerate*}\n",
       "\\item 563626\n",
       "\\item 4232659\n",
       "\\item 7901692\n",
       "\\item 11570725\n",
       "\\item 15239758\n",
       "\\item 18908791\n",
       "\\item 22577824\n",
       "\\item 26246857\n",
       "\\item 29915890\n",
       "\\item 33584923\n",
       "\\item 37253956\n",
       "\\end{enumerate*}\n"
      ],
      "text/markdown": [
       "1. 563626\n",
       "2. 4232659\n",
       "3. 7901692\n",
       "4. 11570725\n",
       "5. 15239758\n",
       "6. 18908791\n",
       "7. 22577824\n",
       "8. 26246857\n",
       "9. 29915890\n",
       "10. 33584923\n",
       "11. 37253956\n",
       "\n",
       "\n"
      ],
      "text/plain": [
       " [1]   563626  4232659  7901692 11570725 15239758 18908791 22577824 26246857\n",
       " [9] 29915890 33584923 37253956"
      ]
     },
     "metadata": {},
     "output_type": "display_data"
    }
   ],
   "source": [
    "breaks"
   ]
  },
  {
   "cell_type": "code",
   "execution_count": null,
   "metadata": {},
   "outputs": [],
   "source": []
  }
 ],
 "metadata": {
  "kernelspec": {
   "display_name": "R",
   "language": "R",
   "name": "ir"
  },
  "language_info": {
   "codemirror_mode": "r",
   "file_extension": ".r",
   "mimetype": "text/x-r-source",
   "name": "R",
   "pygments_lexer": "r",
   "version": "3.6.1"
  },
  "toc": {
   "base_numbering": 1,
   "nav_menu": {},
   "number_sections": true,
   "sideBar": true,
   "skip_h1_title": true,
   "title_cell": "Table of Contents",
   "title_sidebar": "Contents",
   "toc_cell": false,
   "toc_position": {},
   "toc_section_display": true,
   "toc_window_display": false
  }
 },
 "nbformat": 4,
 "nbformat_minor": 4
}
