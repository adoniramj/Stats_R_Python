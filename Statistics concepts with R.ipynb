{
 "cells": [
  {
   "cell_type": "markdown",
   "metadata": {},
   "source": [
    "## Chapter 1"
   ]
  },
  {
   "cell_type": "code",
   "execution_count": 1,
   "metadata": {},
   "outputs": [],
   "source": [
    "# data file\n",
    "states <- read.csv('data_files/state.csv')"
   ]
  },
  {
   "cell_type": "code",
   "execution_count": 2,
   "metadata": {},
   "outputs": [
    {
     "data": {
      "text/html": [
       "<table>\n",
       "<thead><tr><th scope=col>State</th><th scope=col>Population</th><th scope=col>Murder.Rate</th><th scope=col>Abbreviation</th></tr></thead>\n",
       "<tbody>\n",
       "\t<tr><td>Alabama   </td><td> 4779736  </td><td>5.7       </td><td>AL        </td></tr>\n",
       "\t<tr><td>Alaska    </td><td>  710231  </td><td>5.6       </td><td>AK        </td></tr>\n",
       "\t<tr><td>Arizona   </td><td> 6392017  </td><td>4.7       </td><td>AZ        </td></tr>\n",
       "\t<tr><td>Arkansas  </td><td> 2915918  </td><td>5.6       </td><td>AR        </td></tr>\n",
       "\t<tr><td>California</td><td>37253956  </td><td>4.4       </td><td>CA        </td></tr>\n",
       "\t<tr><td>Colorado  </td><td> 5029196  </td><td>2.8       </td><td>CO        </td></tr>\n",
       "</tbody>\n",
       "</table>\n"
      ],
      "text/latex": [
       "\\begin{tabular}{r|llll}\n",
       " State & Population & Murder.Rate & Abbreviation\\\\\n",
       "\\hline\n",
       "\t Alabama    &  4779736   & 5.7        & AL        \\\\\n",
       "\t Alaska     &   710231   & 5.6        & AK        \\\\\n",
       "\t Arizona    &  6392017   & 4.7        & AZ        \\\\\n",
       "\t Arkansas   &  2915918   & 5.6        & AR        \\\\\n",
       "\t California & 37253956   & 4.4        & CA        \\\\\n",
       "\t Colorado   &  5029196   & 2.8        & CO        \\\\\n",
       "\\end{tabular}\n"
      ],
      "text/markdown": [
       "\n",
       "| State | Population | Murder.Rate | Abbreviation |\n",
       "|---|---|---|---|\n",
       "| Alabama    |  4779736   | 5.7        | AL         |\n",
       "| Alaska     |   710231   | 5.6        | AK         |\n",
       "| Arizona    |  6392017   | 4.7        | AZ         |\n",
       "| Arkansas   |  2915918   | 5.6        | AR         |\n",
       "| California | 37253956   | 4.4        | CA         |\n",
       "| Colorado   |  5029196   | 2.8        | CO         |\n",
       "\n"
      ],
      "text/plain": [
       "  State      Population Murder.Rate Abbreviation\n",
       "1 Alabama     4779736   5.7         AL          \n",
       "2 Alaska       710231   5.6         AK          \n",
       "3 Arizona     6392017   4.7         AZ          \n",
       "4 Arkansas    2915918   5.6         AR          \n",
       "5 California 37253956   4.4         CA          \n",
       "6 Colorado    5029196   2.8         CO          "
      ]
     },
     "metadata": {},
     "output_type": "display_data"
    },
    {
     "data": {
      "text/html": [
       "'data.frame'"
      ],
      "text/latex": [
       "'data.frame'"
      ],
      "text/markdown": [
       "'data.frame'"
      ],
      "text/plain": [
       "[1] \"data.frame\""
      ]
     },
     "metadata": {},
     "output_type": "display_data"
    }
   ],
   "source": [
    "head(states)\n",
    "class(states)\n",
    "# columns are features\n",
    "# rows are records"
   ]
  },
  {
   "cell_type": "markdown",
   "metadata": {},
   "source": [
    "Dataframes are part of the core packages in R. This is different from Python which requires pandas."
   ]
  },
  {
   "cell_type": "markdown",
   "metadata": {},
   "source": [
    "### Calculating mean and median"
   ]
  },
  {
   "cell_type": "code",
   "execution_count": 3,
   "metadata": {},
   "outputs": [
    {
     "data": {
      "text/html": [
       "<ol class=list-inline>\n",
       "\t<li>'State'</li>\n",
       "\t<li>'Population'</li>\n",
       "\t<li>'Murder.Rate'</li>\n",
       "\t<li>'Abbreviation'</li>\n",
       "</ol>\n"
      ],
      "text/latex": [
       "\\begin{enumerate*}\n",
       "\\item 'State'\n",
       "\\item 'Population'\n",
       "\\item 'Murder.Rate'\n",
       "\\item 'Abbreviation'\n",
       "\\end{enumerate*}\n"
      ],
      "text/markdown": [
       "1. 'State'\n",
       "2. 'Population'\n",
       "3. 'Murder.Rate'\n",
       "4. 'Abbreviation'\n",
       "\n",
       "\n"
      ],
      "text/plain": [
       "[1] \"State\"        \"Population\"   \"Murder.Rate\"  \"Abbreviation\""
      ]
     },
     "metadata": {},
     "output_type": "display_data"
    }
   ],
   "source": [
    "names(states)"
   ]
  },
  {
   "cell_type": "code",
   "execution_count": 4,
   "metadata": {},
   "outputs": [
    {
     "data": {
      "text/html": [
       "6162876.3"
      ],
      "text/latex": [
       "6162876.3"
      ],
      "text/markdown": [
       "6162876.3"
      ],
      "text/plain": [
       "[1] 6162876"
      ]
     },
     "metadata": {},
     "output_type": "display_data"
    }
   ],
   "source": [
    "mean(states$Population)"
   ]
  },
  {
   "cell_type": "code",
   "execution_count": 5,
   "metadata": {},
   "outputs": [
    {
     "data": {
      "text/html": [
       "4436369.5"
      ],
      "text/latex": [
       "4436369.5"
      ],
      "text/markdown": [
       "4436369.5"
      ],
      "text/plain": [
       "[1] 4436370"
      ]
     },
     "metadata": {},
     "output_type": "display_data"
    }
   ],
   "source": [
    "# trim mean; 10%\n",
    "median(states$Population)"
   ]
  },
  {
   "cell_type": "code",
   "execution_count": 6,
   "metadata": {},
   "outputs": [
    {
     "name": "stdout",
     "output_type": "stream",
     "text": [
      "[1] \"Weighted mean of the murder rate\"\n"
     ]
    },
    {
     "data": {
      "text/html": [
       "0.0444583398112339"
      ],
      "text/latex": [
       "0.0444583398112339"
      ],
      "text/markdown": [
       "0.0444583398112339"
      ],
      "text/plain": [
       "[1] 0.04445834"
      ]
     },
     "metadata": {},
     "output_type": "display_data"
    }
   ],
   "source": [
    "# Manual calculation of the weighted mean of the murder rate\n",
    "murdersPerState <- sum(states$Population * states$Murder.Rate / 100)\n",
    "totalPopulation <- sum(states$Population)\n",
    "totalMurders <- sum(murdersPerState)\n",
    "print('Weighted mean of the murder rate')\n",
    "totalMurders / totalPopulation"
   ]
  },
  {
   "cell_type": "code",
   "execution_count": 7,
   "metadata": {},
   "outputs": [
    {
     "name": "stderr",
     "output_type": "stream",
     "text": [
      "Warning message:\n",
      "“package ‘matrixStats’ was built under R version 3.6.3”"
     ]
    },
    {
     "data": {
      "text/html": [
       "4.44583398112339"
      ],
      "text/latex": [
       "4.44583398112339"
      ],
      "text/markdown": [
       "4.44583398112339"
      ],
      "text/plain": [
       "[1] 4.445834"
      ]
     },
     "metadata": {},
     "output_type": "display_data"
    }
   ],
   "source": [
    "# calculating the weighted mean using matrixStats\n",
    "library(matrixStats)\n",
    "weightedMean(states$Murder.Rate, w = states$Population)"
   ]
  },
  {
   "cell_type": "markdown",
   "metadata": {},
   "source": [
    "### Estimates of variability"
   ]
  },
  {
   "cell_type": "code",
   "execution_count": 18,
   "metadata": {},
   "outputs": [
    {
     "data": {
      "text/html": [
       "4450933.356"
      ],
      "text/latex": [
       "4450933.356"
      ],
      "text/markdown": [
       "4450933.356"
      ],
      "text/plain": [
       "[1] 4450933"
      ]
     },
     "metadata": {},
     "output_type": "display_data"
    }
   ],
   "source": [
    "# mean absolute deviation\n",
    "x <- abs(states$Population - mean(states$Population))\n",
    "y <- sum(x)\n",
    "y / 50"
   ]
  },
  {
   "cell_type": "code",
   "execution_count": 24,
   "metadata": {},
   "outputs": [],
   "source": [
    "pop <- states$Population"
   ]
  },
  {
   "cell_type": "code",
   "execution_count": 25,
   "metadata": {},
   "outputs": [
    {
     "data": {
      "text/html": [
       "6848235.34740114"
      ],
      "text/latex": [
       "6848235.34740114"
      ],
      "text/markdown": [
       "6848235.34740114"
      ],
      "text/plain": [
       "[1] 6848235"
      ]
     },
     "metadata": {},
     "output_type": "display_data"
    }
   ],
   "source": [
    "# sd\n",
    "sd(pop)"
   ]
  },
  {
   "cell_type": "code",
   "execution_count": 26,
   "metadata": {},
   "outputs": [
    {
     "data": {
      "text/html": [
       "4847308"
      ],
      "text/latex": [
       "4847308"
      ],
      "text/markdown": [
       "4847308"
      ],
      "text/plain": [
       "[1] 4847308"
      ]
     },
     "metadata": {},
     "output_type": "display_data"
    }
   ],
   "source": [
    "IQR(pop)"
   ]
  },
  {
   "cell_type": "code",
   "execution_count": 27,
   "metadata": {},
   "outputs": [
    {
     "data": {
      "text/html": [
       "3849870.3852"
      ],
      "text/latex": [
       "3849870.3852"
      ],
      "text/markdown": [
       "3849870.3852"
      ],
      "text/plain": [
       "[1] 3849870"
      ]
     },
     "metadata": {},
     "output_type": "display_data"
    }
   ],
   "source": [
    "mad(pop)"
   ]
  },
  {
   "cell_type": "code",
   "execution_count": null,
   "metadata": {},
   "outputs": [],
   "source": []
  }
 ],
 "metadata": {
  "kernelspec": {
   "display_name": "R",
   "language": "R",
   "name": "ir"
  },
  "language_info": {
   "codemirror_mode": "r",
   "file_extension": ".r",
   "mimetype": "text/x-r-source",
   "name": "R",
   "pygments_lexer": "r",
   "version": "3.6.1"
  },
  "toc": {
   "base_numbering": 1,
   "nav_menu": {},
   "number_sections": true,
   "sideBar": true,
   "skip_h1_title": true,
   "title_cell": "Table of Contents",
   "title_sidebar": "Contents",
   "toc_cell": false,
   "toc_position": {},
   "toc_section_display": true,
   "toc_window_display": false
  }
 },
 "nbformat": 4,
 "nbformat_minor": 4
}
